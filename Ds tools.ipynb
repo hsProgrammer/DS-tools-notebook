{
 "cells": [
  {
   "cell_type": "markdown",
   "id": "84abc1b4",
   "metadata": {},
   "source": [
    "# Data Science tools and Ecosystem"
   ]
  },
  {
   "cell_type": "markdown",
   "id": "7aa17994",
   "metadata": {},
   "source": [
    "#### Objectives:\n",
    "\n",
    "Describe the components of a Data Scientist's toolkit and list various tool categories.\n",
    "\n",
    "List examples of open-source tools used in data science.\n",
    "\n",
    "Describe the relevant features of open-source tools.\n",
    "\n",
    "List examples of commercial and cloud-based data science tools."
   ]
  },
  {
   "cell_type": "markdown",
   "id": "a9b711f7",
   "metadata": {},
   "source": [
    "In this Notebook, Data Science tools and ecosystem will summarized."
   ]
  },
  {
   "cell_type": "markdown",
   "id": "7fa03754",
   "metadata": {},
   "source": [
    "Some of popular languages Data Scientists use:\n",
    "    \n",
    "    Python\n",
    "    SQL\n",
    "    R \n",
    "    Scala\n",
    "    Julia\n",
    "    JavaScript\n",
    "    "
   ]
  },
  {
   "cell_type": "markdown",
   "id": "91ff0341",
   "metadata": {},
   "source": [
    "Some of the commonly used libraries used by Data Scientists include:\n",
    "\n",
    "Numpy\n",
    "\n",
    "Pandas\n",
    "\n",
    "Matplotlib\n",
    "\n",
    "Seaborn\n",
    "\n",
    "Tensorflow\n",
    "\n",
    "ggplot\n"
   ]
  },
  {
   "cell_type": "markdown",
   "id": "f535d2b1",
   "metadata": {},
   "source": [
    "## Data Science tools\n",
    "\n",
    "|Tool   |Usage            |\n",
    "|------:|:---------------:|\n",
    "|SQL    | Data Management |\n",
    "|Jupyter| Model Building  |\n",
    "|Azure  | Cloud Computing |\n"
   ]
  },
  {
   "cell_type": "markdown",
   "id": "d3baeef8",
   "metadata": {},
   "source": [
    "### Below are a few examples of evaluating arithmetic expressions in Python"
   ]
  },
  {
   "cell_type": "code",
   "execution_count": 3,
   "id": "84744d62",
   "metadata": {},
   "outputs": [
    {
     "name": "stdout",
     "output_type": "stream",
     "text": [
      "17\n"
     ]
    }
   ],
   "source": [
    "#This a simple arithmetic expression to mutiply then add integers\n",
    "print((3*4)+5)"
   ]
  },
  {
   "cell_type": "code",
   "execution_count": 4,
   "id": "7a98eb42",
   "metadata": {},
   "outputs": [
    {
     "name": "stdout",
     "output_type": "stream",
     "text": [
      "3.3333333333333335\n"
     ]
    }
   ],
   "source": [
    "mintues = 200\n",
    "hours = mintues/60\n",
    "print(hours)"
   ]
  },
  {
   "cell_type": "markdown",
   "id": "f3c17b73",
   "metadata": {},
   "source": [
    "## Author:  Moazzam Fayyaz"
   ]
  },
  {
   "cell_type": "code",
   "execution_count": null,
   "id": "5f929d1b",
   "metadata": {},
   "outputs": [],
   "source": []
  }
 ],
 "metadata": {
  "kernelspec": {
   "display_name": "Python 3 (ipykernel)",
   "language": "python",
   "name": "python3"
  },
  "language_info": {
   "codemirror_mode": {
    "name": "ipython",
    "version": 3
   },
   "file_extension": ".py",
   "mimetype": "text/x-python",
   "name": "python",
   "nbconvert_exporter": "python",
   "pygments_lexer": "ipython3",
   "version": "3.11.5"
  }
 },
 "nbformat": 4,
 "nbformat_minor": 5
}
